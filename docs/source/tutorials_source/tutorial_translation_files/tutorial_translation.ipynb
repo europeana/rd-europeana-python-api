{
 "cells": [
  {
   "cell_type": "markdown",
   "id": "f130a063-9b19-4c35-bf5d-fd92804040ef",
   "metadata": {
    "id": "f130a063-9b19-4c35-bf5d-fd92804040ef"
   },
   "source": [
    "# Introduction"
   ]
  },
  {
   "cell_type": "markdown",
   "id": "6b362e47-05cf-43dc-8505-eb998436617f",
   "metadata": {
    "id": "6b362e47-05cf-43dc-8505-eb998436617f"
   },
   "source": [
    "The [Europeana Foundation](https://www.europeana.eu/en) digitally collects currently more than 60 Millions Cultural Heritage (CH) records. These records are described by a series of metadata that capture the available information about the objects. For example the title, a text that describes the object, the type of object (video, textual, etc) are all relevant metadata. \n",
    "\n",
    "One of the goals of  Europeana is to improve the multilinguality of its resources, meaning that as many records as possible should have information available in as many languages are possible, ideally at least all the 24 European languages.\n",
    "While many records are already available in many languages, there are records that currently do not hold  yet relevant information in the language preferred by some of the users of the Europeana platform. \n",
    "To tackle this problem, we could use an automatic translation service to achieve a fuller language coverage of the metadata. \n",
    "\n",
    "\n",
    "This notebook contains a brief demo on using the [Europeana Search API](https://pro.europeana.eu/page/search) in combination with [PyEuropeana](https://github.com/europeana/rd-europeana-python-api), a Python client library for Europeana APIs, to perform translations of metadata and evaluate their quality. Read more about how the PyEuropeana package works in the [Documentation](https://rd-europeana-python-api.readthedocs.io/en/stable/)."
   ]
  },
  {
   "cell_type": "markdown",
   "id": "fNXbEPlmT0GU",
   "metadata": {
    "id": "fNXbEPlmT0GU"
   },
   "source": [
    "# Importing packages"
   ]
  },
  {
   "cell_type": "markdown",
   "id": "7Zizjln9UM_9",
   "metadata": {
    "id": "7Zizjln9UM_9"
   },
   "source": [
    "After installation of the missing packages we can import all needed packages in the notebook"
   ]
  },
  {
   "cell_type": "code",
   "execution_count": 1,
   "id": "zkQNr13sT_CF",
   "metadata": {
    "id": "zkQNr13sT_CF"
   },
   "outputs": [],
   "source": [
    "import pandas as pd\n",
    "import os\n",
    "from deep_translator import GoogleTranslator\n",
    "from nltk.translate.bleu_score import sentence_bleu\n",
    "pd.options.mode.chained_assignment = None\n",
    "import pyeuropeana.apis as apis\n",
    "import pyeuropeana.utils as utils\n",
    "import pyter"
   ]
  },
  {
   "cell_type": "code",
   "execution_count": 2,
   "id": "xN-BO_jGJczD",
   "metadata": {
    "id": "xN-BO_jGJczD"
   },
   "outputs": [],
   "source": [
    "#setting enviroment variable\n",
    "os.environ['EUROPEANA_API_KEY'] = 'your_API_key' #replace with your API key"
   ]
  },
  {
   "cell_type": "markdown",
   "id": "6d2c5101-c125-4b16-9fcc-3408885cb735",
   "metadata": {
    "id": "6d2c5101-c125-4b16-9fcc-3408885cb735"
   },
   "source": [
    "# Definition of the translation function"
   ]
  },
  {
   "cell_type": "markdown",
   "id": "fe22c9d4-32ef-4bb0-8d9a-a7b5b5eecfb4",
   "metadata": {
    "id": "fe22c9d4-32ef-4bb0-8d9a-a7b5b5eecfb4"
   },
   "source": [
    "In this section we define the function that will perform language translation of a piece of text."
   ]
  },
  {
   "cell_type": "code",
   "execution_count": 3,
   "id": "59f6a908-5e65-41fc-8cb6-1fccf52f81d7",
   "metadata": {
    "id": "59f6a908-5e65-41fc-8cb6-1fccf52f81d7"
   },
   "outputs": [],
   "source": [
    "def translate(txt, target):\n",
    "    ''' This function performs automatic translation leveraging deep_translator\n",
    "        Parameters\n",
    "        txt(string): text to be translated\n",
    "        target (string) language tag of the target language, it takes ISO 639-1 language codes'''\n",
    "    if type(txt)==str: \n",
    "        #Here we are using the GoogleTranslator library, defining a source language that is detected \n",
    "        #automatically and a target language we want the text to be translated to\n",
    "        translated=GoogleTranslator(source='auto', target=target).translate(txt)\n",
    "    else:\n",
    "        translated= 'Provided text is not a string and cannot be translated'\n",
    "    return translated"
   ]
  },
  {
   "cell_type": "markdown",
   "id": "37630ff7-42f9-44ea-9aa3-2399d49c8a62",
   "metadata": {
    "id": "37630ff7-42f9-44ea-9aa3-2399d49c8a62"
   },
   "source": [
    "Let us try if this function works on a simple piece of Dutch text to be translated to English"
   ]
  },
  {
   "cell_type": "code",
   "execution_count": 4,
   "id": "d140ebab-7e04-4519-aaa9-c10ad4f8d4ee",
   "metadata": {
    "colab": {
     "base_uri": "https://localhost:8080/",
     "height": 35
    },
    "id": "d140ebab-7e04-4519-aaa9-c10ad4f8d4ee",
    "outputId": "e4996649-d19a-4cbc-baad-47e3f56759b5"
   },
   "outputs": [
    {
     "data": {
      "text/plain": [
       "'How are you ?'"
      ]
     },
     "execution_count": 4,
     "metadata": {},
     "output_type": "execute_result"
    }
   ],
   "source": [
    "text= \"Hoe gaat het ?\"\n",
    "translation=translate(text,'en')\n",
    "translation"
   ]
  },
  {
   "cell_type": "markdown",
   "id": "fed23233-d0ac-44f6-8e01-39bd994ee660",
   "metadata": {
    "id": "fed23233-d0ac-44f6-8e01-39bd994ee660"
   },
   "source": [
    "It looks like it is working!"
   ]
  },
  {
   "cell_type": "markdown",
   "id": "d0b7b8da-648a-4839-9bfa-2f13b2b94f57",
   "metadata": {
    "id": "d0b7b8da-648a-4839-9bfa-2f13b2b94f57"
   },
   "source": [
    "In the following section we will be using the PyEuropeana module and the Search API to query the Europeana database."
   ]
  },
  {
   "cell_type": "markdown",
   "id": "fcf33c24-bccf-487a-bf55-e41ffae572ca",
   "metadata": {
    "id": "fcf33c24-bccf-487a-bf55-e41ffae572ca"
   },
   "source": [
    "# Querying the Europeana database"
   ]
  },
  {
   "cell_type": "markdown",
   "id": "12186834-32fe-4cbd-8c03-a0410bfafacb",
   "metadata": {
    "id": "12186834-32fe-4cbd-8c03-a0410bfafacb"
   },
   "source": [
    "Let us specify the query we want to execute and the number of CH records that we would like to retrieve. The following query looks for the records that have a description in Italian and asks to retrieve 10 of them."
   ]
  },
  {
   "cell_type": "code",
   "execution_count": 5,
   "id": "db508d55-16bb-4c37-b054-43ef3e3a3e29",
   "metadata": {
    "id": "db508d55-16bb-4c37-b054-43ef3e3a3e29"
   },
   "outputs": [],
   "source": [
    "#Here we define the query and the number of record parameters\n",
    "query= 'proxy_dc_description.it:*'\n",
    "n_CH_records=10"
   ]
  },
  {
   "cell_type": "markdown",
   "id": "17340675-13e9-4217-bf53-7134374746a8",
   "metadata": {
    "id": "17340675-13e9-4217-bf53-7134374746a8"
   },
   "source": [
    "Once we have defined the parameters we can perform the API call using the apis module of the PyEuropeana package"
   ]
  },
  {
   "cell_type": "code",
   "execution_count": 6,
   "id": "ef81e6b6-a03d-4841-9c73-9b237f5ca7ce",
   "metadata": {
    "id": "ef81e6b6-a03d-4841-9c73-9b237f5ca7ce"
   },
   "outputs": [],
   "source": [
    "response = apis.search(\n",
    "    query = query,\n",
    "    rows = n_CH_records,\n",
    "    )"
   ]
  },
  {
   "cell_type": "markdown",
   "id": "216a5aff-a2bd-4bf7-8a2d-60608b911eec",
   "metadata": {},
   "source": [
    "Let us take a look at the response"
   ]
  },
  {
   "cell_type": "code",
   "execution_count": 38,
   "id": "664b492e-e7d2-4d65-89a6-56c6f4192a48",
   "metadata": {},
   "outputs": [
    {
     "data": {
      "text/plain": [
       "{'apikey': 'api2demo',\n",
       " 'success': True,\n",
       " 'requestNumber': 999,\n",
       " 'itemsCount': 10,\n",
       " 'totalResults': 615910}"
      ]
     },
     "execution_count": 38,
     "metadata": {},
     "output_type": "execute_result"
    }
   ],
   "source": [
    "dict(list(response.items())[0:5]) #visualizing the first few objetcs"
   ]
  },
  {
   "cell_type": "markdown",
   "id": "8f16a8b2-fdd7-46ef-b7d9-5c8fd3d8e265",
   "metadata": {
    "id": "8f16a8b2-fdd7-46ef-b7d9-5c8fd3d8e265"
   },
   "source": [
    "The response  is a rich and complex JSON file, which is essentially a list of nested dictionaries. The JSON format holds many different metadata fields, for example `itemCount` and `totalResults`. In many cases we are not interested in all the metadata fields, but in a subset, depending on the problem at hand.  It is possible to visualize the full content of the file by typing `response`.\n",
    "\n",
    "It would then be  useful if we could focus on a selection of the fields and access them in an easier to read  format than the JSON format, for example a table. The PyEuropeana module offers just that!"
   ]
  },
  {
   "cell_type": "markdown",
   "id": "eb08a62a-716d-464b-9c49-ef078a170274",
   "metadata": {
    "id": "eb08a62a-716d-464b-9c49-ef078a170274"
   },
   "source": [
    "# Selection of a subset of metadata fields"
   ]
  },
  {
   "cell_type": "markdown",
   "id": "ff5cc1a8-4f58-45f5-8bfb-f2f8d93c101a",
   "metadata": {
    "id": "ff5cc1a8-4f58-45f5-8bfb-f2f8d93c101a"
   },
   "source": [
    "Here we use the function `search2df` within the utils module of PyEuropeana to select a  predetermined subset of  fields and cast them in a tabular form"
   ]
  },
  {
   "cell_type": "code",
   "execution_count": 39,
   "id": "823d204c-2ced-46e0-bbdf-6f54eb86e677",
   "metadata": {
    "colab": {
     "base_uri": "https://localhost:8080/",
     "height": 350
    },
    "id": "823d204c-2ced-46e0-bbdf-6f54eb86e677",
    "outputId": "f0020e8a-2b84-40a2-9f2e-a17f14763add"
   },
   "outputs": [
    {
     "data": {
      "text/plain": [
       "Index(['europeana_id', 'uri', 'type', 'image_url', 'country', 'description',\n",
       "       'title', 'creator', 'language', 'rights', 'provider', 'dataset_name',\n",
       "       'concept', 'concept_lang', 'description_lang', 'title_lang'],\n",
       "      dtype='object')"
      ]
     },
     "execution_count": 39,
     "metadata": {},
     "output_type": "execute_result"
    }
   ],
   "source": [
    "df_search=utils.search2df(response)\n",
    "df_search.columns"
   ]
  },
  {
   "cell_type": "markdown",
   "id": "7c9fa5be-89bc-4050-9026-ce9324970cd2",
   "metadata": {
    "id": "7c9fa5be-89bc-4050-9026-ce9324970cd2"
   },
   "source": [
    "Comparing the names of the columns above with the original JSON file we can notice that  a subselection of fields has been performed by the `search2df` function.\n",
    "In the following section we will look to translate the text in the `description` field, one of the most important metadata fields."
   ]
  },
  {
   "cell_type": "markdown",
   "id": "96ce7c6a-a492-4fe1-b484-f00c2261e2b6",
   "metadata": {
    "id": "96ce7c6a-a492-4fe1-b484-f00c2261e2b6"
   },
   "source": [
    "# Translations of the `description` field"
   ]
  },
  {
   "cell_type": "markdown",
   "id": "c78ba6b0-b760-4ea0-b093-b9655ee96048",
   "metadata": {
    "id": "c78ba6b0-b760-4ea0-b093-b9655ee96048"
   },
   "source": [
    "In this tutorial, the information we are interested in translating is the description of the record, held in the `description` column. Let us see if we can apply the function defined at the beginning of the notebook to translate the description column from its original language, Italian, to English."
   ]
  },
  {
   "cell_type": "markdown",
   "id": "e3644592-467b-42d2-ac51-984f523c4030",
   "metadata": {
    "id": "e3644592-467b-42d2-ac51-984f523c4030"
   },
   "source": [
    "We make a new column `description_en` and apply the function `translate` to the `description` column to translate it to English."
   ]
  },
  {
   "cell_type": "code",
   "execution_count": 40,
   "id": "2d109fdc-59a9-47fe-a1f2-14428c104e24",
   "metadata": {
    "id": "2d109fdc-59a9-47fe-a1f2-14428c104e24"
   },
   "outputs": [],
   "source": [
    "df_search['description_en']=df_search['description'].apply(translate,target='en')"
   ]
  },
  {
   "cell_type": "markdown",
   "id": "42038e78-4d66-4867-a6ec-5282debd729e",
   "metadata": {
    "id": "42038e78-4d66-4867-a6ec-5282debd729e"
   },
   "source": [
    "Let us visualize only the original text and  the  English translation"
   ]
  },
  {
   "cell_type": "code",
   "execution_count": 41,
   "id": "b4fdd9b0-ad7a-4006-9f17-fab657447a87",
   "metadata": {
    "colab": {
     "base_uri": "https://localhost:8080/",
     "height": 363
    },
    "id": "b4fdd9b0-ad7a-4006-9f17-fab657447a87",
    "outputId": "bab6b081-bb48-4f2d-ffdf-94ecede9c5c9"
   },
   "outputs": [
    {
     "data": {
      "text/html": [
       "<div>\n",
       "<style scoped>\n",
       "    .dataframe tbody tr th:only-of-type {\n",
       "        vertical-align: middle;\n",
       "    }\n",
       "\n",
       "    .dataframe tbody tr th {\n",
       "        vertical-align: top;\n",
       "    }\n",
       "\n",
       "    .dataframe thead th {\n",
       "        text-align: right;\n",
       "    }\n",
       "</style>\n",
       "<table border=\"1\" class=\"dataframe\">\n",
       "  <thead>\n",
       "    <tr style=\"text-align: right;\">\n",
       "      <th></th>\n",
       "      <th>description</th>\n",
       "      <th>description_en</th>\n",
       "    </tr>\n",
       "  </thead>\n",
       "  <tbody>\n",
       "    <tr>\n",
       "      <th>0</th>\n",
       "      <td>Manifesto che riporta due carte geografiche de...</td>\n",
       "      <td>Poster showing two geographical maps of Europe...</td>\n",
       "    </tr>\n",
       "    <tr>\n",
       "      <th>1</th>\n",
       "      <td>Manifesto che mostra al centro la carta geogra...</td>\n",
       "      <td>Poster showing in the center the geographical ...</td>\n",
       "    </tr>\n",
       "    <tr>\n",
       "      <th>2</th>\n",
       "      <td>Manifesto che mostra una carta geografica dell...</td>\n",
       "      <td>Poster showing a map of north-eastern Italy an...</td>\n",
       "    </tr>\n",
       "    <tr>\n",
       "      <th>3</th>\n",
       "      <td>Manifesto che mostra al centro una carta geogr...</td>\n",
       "      <td>Poster showing in the center a geographical ma...</td>\n",
       "    </tr>\n",
       "    <tr>\n",
       "      <th>4</th>\n",
       "      <td>Manifesto che mostra una carta geografica dell...</td>\n",
       "      <td>Poster showing a map of north-eastern Italy an...</td>\n",
       "    </tr>\n",
       "    <tr>\n",
       "      <th>5</th>\n",
       "      <td>Manifesto che mostra una carta geografica dell...</td>\n",
       "      <td>Poster showing a map of Italy and the Balkans ...</td>\n",
       "    </tr>\n",
       "    <tr>\n",
       "      <th>6</th>\n",
       "      <td>Manifesto che mostra la carta geografica del m...</td>\n",
       "      <td>Poster showing the geographical map of the wor...</td>\n",
       "    </tr>\n",
       "    <tr>\n",
       "      <th>7</th>\n",
       "      <td>Manifesto che mostra una rappresentazione geog...</td>\n",
       "      <td>Poster showing a geographic representation of ...</td>\n",
       "    </tr>\n",
       "    <tr>\n",
       "      <th>8</th>\n",
       "      <td>Manifesto che raffigura in azzurro la catena d...</td>\n",
       "      <td>Poster depicting in blue the mountain range an...</td>\n",
       "    </tr>\n",
       "    <tr>\n",
       "      <th>9</th>\n",
       "      <td>Manifesto che mostra la carta geograficha dell...</td>\n",
       "      <td>Poster showing the geographical map of Venice ...</td>\n",
       "    </tr>\n",
       "  </tbody>\n",
       "</table>\n",
       "</div>"
      ],
      "text/plain": [
       "                                         description  \\\n",
       "0  Manifesto che riporta due carte geografiche de...   \n",
       "1  Manifesto che mostra al centro la carta geogra...   \n",
       "2  Manifesto che mostra una carta geografica dell...   \n",
       "3  Manifesto che mostra al centro una carta geogr...   \n",
       "4  Manifesto che mostra una carta geografica dell...   \n",
       "5  Manifesto che mostra una carta geografica dell...   \n",
       "6  Manifesto che mostra la carta geografica del m...   \n",
       "7  Manifesto che mostra una rappresentazione geog...   \n",
       "8  Manifesto che raffigura in azzurro la catena d...   \n",
       "9  Manifesto che mostra la carta geograficha dell...   \n",
       "\n",
       "                                      description_en  \n",
       "0  Poster showing two geographical maps of Europe...  \n",
       "1  Poster showing in the center the geographical ...  \n",
       "2  Poster showing a map of north-eastern Italy an...  \n",
       "3  Poster showing in the center a geographical ma...  \n",
       "4  Poster showing a map of north-eastern Italy an...  \n",
       "5  Poster showing a map of Italy and the Balkans ...  \n",
       "6  Poster showing the geographical map of the wor...  \n",
       "7  Poster showing a geographic representation of ...  \n",
       "8  Poster depicting in blue the mountain range an...  \n",
       "9  Poster showing the geographical map of Venice ...  "
      ]
     },
     "execution_count": 41,
     "metadata": {},
     "output_type": "execute_result"
    }
   ],
   "source": [
    "#We select only the original description in Italian and its automatic translation to English\n",
    "df_translation=df_search[['description','description_en',]]\n",
    "df_translation"
   ]
  },
  {
   "cell_type": "markdown",
   "id": "4c432e34-9a49-416a-b132-cfa20e4c6f9e",
   "metadata": {
    "id": "4c432e34-9a49-416a-b132-cfa20e4c6f9e"
   },
   "source": [
    "We get an idea by scanning the table above, and we can zoom in, for example on the second row, to fully visualize the original text and its translation."
   ]
  },
  {
   "cell_type": "code",
   "execution_count": 42,
   "id": "84cf51c3-9f05-4755-a779-8516838be5e0",
   "metadata": {
    "colab": {
     "base_uri": "https://localhost:8080/"
    },
    "id": "84cf51c3-9f05-4755-a779-8516838be5e0",
    "outputId": "56f7354a-681f-4f9d-bcf8-2fde5d83094f"
   },
   "outputs": [
    {
     "data": {
      "text/plain": [
       "[\"Manifesto che mostra al centro la carta geografica dell'Italia in cui sono indicati i luoghi dove la Croce rossa americana è presente sul territorio,  intorno fanno da cornice alcune fotografie che documentano il lavoro svolto dalla Croce rossa americana, in alto sono presenti i ritratti fotografici di Woodrow Wilson, Robert Perkins ed Henry P. Davison.\",\n",
       " 'Poster showing in the center the geographical map of Italy showing the places where the American Red Cross is present in the area, around it are some photographs documenting the work done by the American Red Cross, at the top there are photographic portraits by Woodrow Wilson, Robert Perkins and Henry P. Davison.']"
      ]
     },
     "execution_count": 42,
     "metadata": {},
     "output_type": "execute_result"
    }
   ],
   "source": [
    " list(df_translation.loc[1])"
   ]
  },
  {
   "cell_type": "markdown",
   "id": "7f6b9eb9-8bb6-4b25-8890-f1ccf1821802",
   "metadata": {
    "id": "7f6b9eb9-8bb6-4b25-8890-f1ccf1821802"
   },
   "source": [
    "To a reader that understands both Italian and English the translation looks ok, but can we take advantage of a quantitative metrics to measure the quality of the translations?"
   ]
  },
  {
   "cell_type": "markdown",
   "id": "347f4768-151d-4fed-9f41-1a0e67e20cab",
   "metadata": {
    "id": "347f4768-151d-4fed-9f41-1a0e67e20cab"
   },
   "source": [
    "# Quality of translations"
   ]
  },
  {
   "cell_type": "markdown",
   "id": "8c69e474-14b0-4313-8464-4973ebb94608",
   "metadata": {
    "id": "8c69e474-14b0-4313-8464-4973ebb94608"
   },
   "source": [
    "The next question we may ask is, can we measure the quality of these metadata translations? <br>\n",
    "The standard  way to measure the quality of translations is to compare them to reference translations and measure how close the reference is to the automatic translation. Over time, many metrics have been developed to do so,  some of the most popular are bilingual evaluation understudy, ([BLEU](https://en.wikipedia.org/wiki/BLEU))  and translation error rate ([TER](https://kantanmtblog.com/2015/07/28/what-is-translation-error-rate-ter/)). <br>\n",
    "In our case, we don't have reference translations at hand, therefore we opt for the following: we translate back the English text into Italian, and we measure how close the original Italian is to the back translated  Italian text. In essence we are using the original text in Italian as a reference. We can then apply the scoring methods comparing  the back translation in Italian to the original text in Italian, assumed here as reference. We can subsequently use this score as an estimate of the quality of the initial translation from Italian to English. This method that uses the back translation, to Italian in this case, is called round trip translation ([RTT](https://en.wikipedia.org/wiki/Round-trip_translation)). RTT involves a two step process, the forward translation and the back translation, while we compare and score only the back translation. Therefore, if an error is detected in the backtranslated text it is difficult  to know if the error occurred in the forward translation, in the back translation, or in both. In addition it is possible to get a good back translation from a bad forward translation. Nevertheless, there is some indication that the technique is useful to judge the quality of longer texts, but not on a sentence level. Although the technique presents downsides it allows us to get started when reference translations are not available, and when we are not familiar with the target language. Therefore in this case, we are going to leverage RTT to show examples of how to evaluate the quality of translations."
   ]
  },
  {
   "cell_type": "markdown",
   "id": "46ce3a6c-4757-4068-bca5-c9dc96e046df",
   "metadata": {
    "id": "46ce3a6c-4757-4068-bca5-c9dc96e046df"
   },
   "source": [
    "Let us thus add a new column to the dataframe, `description_en_it`, to hold the back translation of the `description` column from English to Italian and perform the translation"
   ]
  },
  {
   "cell_type": "code",
   "execution_count": 43,
   "id": "fae8f727-88c9-4c92-858e-9d3c567d787f",
   "metadata": {
    "colab": {
     "base_uri": "https://localhost:8080/",
     "height": 350
    },
    "id": "fae8f727-88c9-4c92-858e-9d3c567d787f",
    "outputId": "59512c59-9b02-4eee-db59-b2b27376c02f",
    "tags": []
   },
   "outputs": [
    {
     "data": {
      "text/html": [
       "<div>\n",
       "<style scoped>\n",
       "    .dataframe tbody tr th:only-of-type {\n",
       "        vertical-align: middle;\n",
       "    }\n",
       "\n",
       "    .dataframe tbody tr th {\n",
       "        vertical-align: top;\n",
       "    }\n",
       "\n",
       "    .dataframe thead th {\n",
       "        text-align: right;\n",
       "    }\n",
       "</style>\n",
       "<table border=\"1\" class=\"dataframe\">\n",
       "  <thead>\n",
       "    <tr style=\"text-align: right;\">\n",
       "      <th></th>\n",
       "      <th>description</th>\n",
       "      <th>description_en</th>\n",
       "      <th>description_en_it</th>\n",
       "    </tr>\n",
       "  </thead>\n",
       "  <tbody>\n",
       "    <tr>\n",
       "      <th>0</th>\n",
       "      <td>Manifesto che riporta due carte geografiche de...</td>\n",
       "      <td>Poster showing two geographical maps of Europe...</td>\n",
       "      <td>Manifesto raffigurante due carte geografiche d...</td>\n",
       "    </tr>\n",
       "    <tr>\n",
       "      <th>1</th>\n",
       "      <td>Manifesto che mostra al centro la carta geogra...</td>\n",
       "      <td>Poster showing in the center the geographical ...</td>\n",
       "      <td>Manifesto che mostra al centro la carta geogra...</td>\n",
       "    </tr>\n",
       "  </tbody>\n",
       "</table>\n",
       "</div>"
      ],
      "text/plain": [
       "                                         description  \\\n",
       "0  Manifesto che riporta due carte geografiche de...   \n",
       "1  Manifesto che mostra al centro la carta geogra...   \n",
       "\n",
       "                                      description_en  \\\n",
       "0  Poster showing two geographical maps of Europe...   \n",
       "1  Poster showing in the center the geographical ...   \n",
       "\n",
       "                                   description_en_it  \n",
       "0  Manifesto raffigurante due carte geografiche d...  \n",
       "1  Manifesto che mostra al centro la carta geogra...  "
      ]
     },
     "execution_count": 43,
     "metadata": {},
     "output_type": "execute_result"
    }
   ],
   "source": [
    "df_search['description_en_it']=df_search['description_en'].apply(translate, target= 'it')\n",
    "df_search=df_search[['description','description_en','description_en_it']] # visualize only the needed columns\n",
    "df_search.head(2)# visualize only the first two rows"
   ]
  },
  {
   "cell_type": "markdown",
   "id": "32248644-543b-4250-9bdc-e7dd8fde0ba7",
   "metadata": {
    "id": "32248644-543b-4250-9bdc-e7dd8fde0ba7"
   },
   "source": [
    "Now, let us visualize the original text in Italian and the back translation to Italian"
   ]
  },
  {
   "cell_type": "code",
   "execution_count": 44,
   "id": "218330d1-7cfb-4412-a67b-136afc8a0a53",
   "metadata": {
    "colab": {
     "base_uri": "https://localhost:8080/",
     "height": 363
    },
    "id": "218330d1-7cfb-4412-a67b-136afc8a0a53",
    "outputId": "e1aa9c6f-2a53-43f3-9a8f-665d41e25163"
   },
   "outputs": [
    {
     "data": {
      "text/html": [
       "<div>\n",
       "<style scoped>\n",
       "    .dataframe tbody tr th:only-of-type {\n",
       "        vertical-align: middle;\n",
       "    }\n",
       "\n",
       "    .dataframe tbody tr th {\n",
       "        vertical-align: top;\n",
       "    }\n",
       "\n",
       "    .dataframe thead th {\n",
       "        text-align: right;\n",
       "    }\n",
       "</style>\n",
       "<table border=\"1\" class=\"dataframe\">\n",
       "  <thead>\n",
       "    <tr style=\"text-align: right;\">\n",
       "      <th></th>\n",
       "      <th>description</th>\n",
       "      <th>description_en_it</th>\n",
       "    </tr>\n",
       "  </thead>\n",
       "  <tbody>\n",
       "    <tr>\n",
       "      <th>0</th>\n",
       "      <td>Manifesto che riporta due carte geografiche de...</td>\n",
       "      <td>Manifesto raffigurante due carte geografiche d...</td>\n",
       "    </tr>\n",
       "    <tr>\n",
       "      <th>1</th>\n",
       "      <td>Manifesto che mostra al centro la carta geogra...</td>\n",
       "      <td>Manifesto che mostra al centro la carta geogra...</td>\n",
       "    </tr>\n",
       "    <tr>\n",
       "      <th>2</th>\n",
       "      <td>Manifesto che mostra una carta geografica dell...</td>\n",
       "      <td>Poster raffigurante una mappa dell'Italia nord...</td>\n",
       "    </tr>\n",
       "    <tr>\n",
       "      <th>3</th>\n",
       "      <td>Manifesto che mostra al centro una carta geogr...</td>\n",
       "      <td>Manifesto che mostra al centro una mappa geogr...</td>\n",
       "    </tr>\n",
       "    <tr>\n",
       "      <th>4</th>\n",
       "      <td>Manifesto che mostra una carta geografica dell...</td>\n",
       "      <td>Poster raffigurante una mappa dell'Italia nord...</td>\n",
       "    </tr>\n",
       "    <tr>\n",
       "      <th>5</th>\n",
       "      <td>Manifesto che mostra una carta geografica dell...</td>\n",
       "      <td>Poster raffigurante una mappa dell'Italia e de...</td>\n",
       "    </tr>\n",
       "    <tr>\n",
       "      <th>6</th>\n",
       "      <td>Manifesto che mostra la carta geografica del m...</td>\n",
       "      <td>Il manifesto raffigurante la carta geografica ...</td>\n",
       "    </tr>\n",
       "    <tr>\n",
       "      <th>7</th>\n",
       "      <td>Manifesto che mostra una rappresentazione geog...</td>\n",
       "      <td>Poster raffigurante una rappresentazione geogr...</td>\n",
       "    </tr>\n",
       "    <tr>\n",
       "      <th>8</th>\n",
       "      <td>Manifesto che raffigura in azzurro la catena d...</td>\n",
       "      <td>Poster raffigurante in blu la catena montuosa ...</td>\n",
       "    </tr>\n",
       "    <tr>\n",
       "      <th>9</th>\n",
       "      <td>Manifesto che mostra la carta geograficha dell...</td>\n",
       "      <td>Poster raffigurante la carta geografica di Ven...</td>\n",
       "    </tr>\n",
       "  </tbody>\n",
       "</table>\n",
       "</div>"
      ],
      "text/plain": [
       "                                         description  \\\n",
       "0  Manifesto che riporta due carte geografiche de...   \n",
       "1  Manifesto che mostra al centro la carta geogra...   \n",
       "2  Manifesto che mostra una carta geografica dell...   \n",
       "3  Manifesto che mostra al centro una carta geogr...   \n",
       "4  Manifesto che mostra una carta geografica dell...   \n",
       "5  Manifesto che mostra una carta geografica dell...   \n",
       "6  Manifesto che mostra la carta geografica del m...   \n",
       "7  Manifesto che mostra una rappresentazione geog...   \n",
       "8  Manifesto che raffigura in azzurro la catena d...   \n",
       "9  Manifesto che mostra la carta geograficha dell...   \n",
       "\n",
       "                                   description_en_it  \n",
       "0  Manifesto raffigurante due carte geografiche d...  \n",
       "1  Manifesto che mostra al centro la carta geogra...  \n",
       "2  Poster raffigurante una mappa dell'Italia nord...  \n",
       "3  Manifesto che mostra al centro una mappa geogr...  \n",
       "4  Poster raffigurante una mappa dell'Italia nord...  \n",
       "5  Poster raffigurante una mappa dell'Italia e de...  \n",
       "6  Il manifesto raffigurante la carta geografica ...  \n",
       "7  Poster raffigurante una rappresentazione geogr...  \n",
       "8  Poster raffigurante in blu la catena montuosa ...  \n",
       "9  Poster raffigurante la carta geografica di Ven...  "
      ]
     },
     "execution_count": 44,
     "metadata": {},
     "output_type": "execute_result"
    }
   ],
   "source": [
    "df_translation_test=df_search[['description','description_en_it']]\n",
    "df_translation_test"
   ]
  },
  {
   "cell_type": "markdown",
   "id": "39d01c71-34db-48a0-b869-96682f45ca89",
   "metadata": {
    "id": "39d01c71-34db-48a0-b869-96682f45ca89"
   },
   "source": [
    "They look pretty similar but let us quantify our impressions by applying the TER metrics, adding a column that holds the value for this metrics."
   ]
  },
  {
   "cell_type": "code",
   "execution_count": 45,
   "id": "41893e4c-d341-4049-9edb-0c115c9ce8b3",
   "metadata": {
    "id": "41893e4c-d341-4049-9edb-0c115c9ce8b3"
   },
   "outputs": [],
   "source": [
    "df_translation_test['TER_score']=df_translation_test.apply(lambda x: pyter.ter(x['description'].split( ), x['description_en_it'].split()), axis=1)"
   ]
  },
  {
   "cell_type": "code",
   "execution_count": 46,
   "id": "d7cdd951-389a-42aa-9918-0acfadeabfec",
   "metadata": {
    "colab": {
     "base_uri": "https://localhost:8080/",
     "height": 363
    },
    "id": "d7cdd951-389a-42aa-9918-0acfadeabfec",
    "outputId": "603398d9-59b4-4ac2-a755-c3ede43a714e"
   },
   "outputs": [
    {
     "data": {
      "text/html": [
       "<div>\n",
       "<style scoped>\n",
       "    .dataframe tbody tr th:only-of-type {\n",
       "        vertical-align: middle;\n",
       "    }\n",
       "\n",
       "    .dataframe tbody tr th {\n",
       "        vertical-align: top;\n",
       "    }\n",
       "\n",
       "    .dataframe thead th {\n",
       "        text-align: right;\n",
       "    }\n",
       "</style>\n",
       "<table border=\"1\" class=\"dataframe\">\n",
       "  <thead>\n",
       "    <tr style=\"text-align: right;\">\n",
       "      <th></th>\n",
       "      <th>description</th>\n",
       "      <th>description_en_it</th>\n",
       "      <th>TER_score</th>\n",
       "    </tr>\n",
       "  </thead>\n",
       "  <tbody>\n",
       "    <tr>\n",
       "      <th>0</th>\n",
       "      <td>Manifesto che riporta due carte geografiche de...</td>\n",
       "      <td>Manifesto raffigurante due carte geografiche d...</td>\n",
       "      <td>0.312500</td>\n",
       "    </tr>\n",
       "    <tr>\n",
       "      <th>1</th>\n",
       "      <td>Manifesto che mostra al centro la carta geogra...</td>\n",
       "      <td>Manifesto che mostra al centro la carta geogra...</td>\n",
       "      <td>0.312500</td>\n",
       "    </tr>\n",
       "    <tr>\n",
       "      <th>2</th>\n",
       "      <td>Manifesto che mostra una carta geografica dell...</td>\n",
       "      <td>Poster raffigurante una mappa dell'Italia nord...</td>\n",
       "      <td>0.200000</td>\n",
       "    </tr>\n",
       "    <tr>\n",
       "      <th>3</th>\n",
       "      <td>Manifesto che mostra al centro una carta geogr...</td>\n",
       "      <td>Manifesto che mostra al centro una mappa geogr...</td>\n",
       "      <td>0.357143</td>\n",
       "    </tr>\n",
       "    <tr>\n",
       "      <th>4</th>\n",
       "      <td>Manifesto che mostra una carta geografica dell...</td>\n",
       "      <td>Poster raffigurante una mappa dell'Italia nord...</td>\n",
       "      <td>0.347826</td>\n",
       "    </tr>\n",
       "    <tr>\n",
       "      <th>5</th>\n",
       "      <td>Manifesto che mostra una carta geografica dell...</td>\n",
       "      <td>Poster raffigurante una mappa dell'Italia e de...</td>\n",
       "      <td>0.416667</td>\n",
       "    </tr>\n",
       "    <tr>\n",
       "      <th>6</th>\n",
       "      <td>Manifesto che mostra la carta geografica del m...</td>\n",
       "      <td>Il manifesto raffigurante la carta geografica ...</td>\n",
       "      <td>0.358974</td>\n",
       "    </tr>\n",
       "    <tr>\n",
       "      <th>7</th>\n",
       "      <td>Manifesto che mostra una rappresentazione geog...</td>\n",
       "      <td>Poster raffigurante una rappresentazione geogr...</td>\n",
       "      <td>0.250000</td>\n",
       "    </tr>\n",
       "    <tr>\n",
       "      <th>8</th>\n",
       "      <td>Manifesto che raffigura in azzurro la catena d...</td>\n",
       "      <td>Poster raffigurante in blu la catena montuosa ...</td>\n",
       "      <td>0.300000</td>\n",
       "    </tr>\n",
       "    <tr>\n",
       "      <th>9</th>\n",
       "      <td>Manifesto che mostra la carta geograficha dell...</td>\n",
       "      <td>Poster raffigurante la carta geografica di Ven...</td>\n",
       "      <td>0.307692</td>\n",
       "    </tr>\n",
       "  </tbody>\n",
       "</table>\n",
       "</div>"
      ],
      "text/plain": [
       "                                         description  \\\n",
       "0  Manifesto che riporta due carte geografiche de...   \n",
       "1  Manifesto che mostra al centro la carta geogra...   \n",
       "2  Manifesto che mostra una carta geografica dell...   \n",
       "3  Manifesto che mostra al centro una carta geogr...   \n",
       "4  Manifesto che mostra una carta geografica dell...   \n",
       "5  Manifesto che mostra una carta geografica dell...   \n",
       "6  Manifesto che mostra la carta geografica del m...   \n",
       "7  Manifesto che mostra una rappresentazione geog...   \n",
       "8  Manifesto che raffigura in azzurro la catena d...   \n",
       "9  Manifesto che mostra la carta geograficha dell...   \n",
       "\n",
       "                                   description_en_it  TER_score  \n",
       "0  Manifesto raffigurante due carte geografiche d...   0.312500  \n",
       "1  Manifesto che mostra al centro la carta geogra...   0.312500  \n",
       "2  Poster raffigurante una mappa dell'Italia nord...   0.200000  \n",
       "3  Manifesto che mostra al centro una mappa geogr...   0.357143  \n",
       "4  Poster raffigurante una mappa dell'Italia nord...   0.347826  \n",
       "5  Poster raffigurante una mappa dell'Italia e de...   0.416667  \n",
       "6  Il manifesto raffigurante la carta geografica ...   0.358974  \n",
       "7  Poster raffigurante una rappresentazione geogr...   0.250000  \n",
       "8  Poster raffigurante in blu la catena montuosa ...   0.300000  \n",
       "9  Poster raffigurante la carta geografica di Ven...   0.307692  "
      ]
     },
     "execution_count": 46,
     "metadata": {},
     "output_type": "execute_result"
    }
   ],
   "source": [
    "df_translation_test"
   ]
  },
  {
   "cell_type": "markdown",
   "id": "-JPEaqdEQHoE",
   "metadata": {
    "id": "-JPEaqdEQHoE"
   },
   "source": [
    "Let us also add a column that holds the value for the BLEU metrics"
   ]
  },
  {
   "cell_type": "code",
   "execution_count": 47,
   "id": "zdJ9m3xaERZn",
   "metadata": {
    "colab": {
     "base_uri": "https://localhost:8080/",
     "height": 363
    },
    "id": "zdJ9m3xaERZn",
    "outputId": "f34f30ed-a076-450f-fde4-84d44088ae80"
   },
   "outputs": [
    {
     "data": {
      "text/html": [
       "<div>\n",
       "<style scoped>\n",
       "    .dataframe tbody tr th:only-of-type {\n",
       "        vertical-align: middle;\n",
       "    }\n",
       "\n",
       "    .dataframe tbody tr th {\n",
       "        vertical-align: top;\n",
       "    }\n",
       "\n",
       "    .dataframe thead th {\n",
       "        text-align: right;\n",
       "    }\n",
       "</style>\n",
       "<table border=\"1\" class=\"dataframe\">\n",
       "  <thead>\n",
       "    <tr style=\"text-align: right;\">\n",
       "      <th></th>\n",
       "      <th>description</th>\n",
       "      <th>description_en_it</th>\n",
       "      <th>TER_score</th>\n",
       "      <th>BLEU_score</th>\n",
       "    </tr>\n",
       "  </thead>\n",
       "  <tbody>\n",
       "    <tr>\n",
       "      <th>0</th>\n",
       "      <td>Manifesto che riporta due carte geografiche de...</td>\n",
       "      <td>Manifesto raffigurante due carte geografiche d...</td>\n",
       "      <td>0.312500</td>\n",
       "      <td>0.435702</td>\n",
       "    </tr>\n",
       "    <tr>\n",
       "      <th>1</th>\n",
       "      <td>Manifesto che mostra al centro la carta geogra...</td>\n",
       "      <td>Manifesto che mostra al centro la carta geogra...</td>\n",
       "      <td>0.312500</td>\n",
       "      <td>0.512205</td>\n",
       "    </tr>\n",
       "    <tr>\n",
       "      <th>2</th>\n",
       "      <td>Manifesto che mostra una carta geografica dell...</td>\n",
       "      <td>Poster raffigurante una mappa dell'Italia nord...</td>\n",
       "      <td>0.200000</td>\n",
       "      <td>0.774552</td>\n",
       "    </tr>\n",
       "    <tr>\n",
       "      <th>3</th>\n",
       "      <td>Manifesto che mostra al centro una carta geogr...</td>\n",
       "      <td>Manifesto che mostra al centro una mappa geogr...</td>\n",
       "      <td>0.357143</td>\n",
       "      <td>0.525368</td>\n",
       "    </tr>\n",
       "    <tr>\n",
       "      <th>4</th>\n",
       "      <td>Manifesto che mostra una carta geografica dell...</td>\n",
       "      <td>Poster raffigurante una mappa dell'Italia nord...</td>\n",
       "      <td>0.347826</td>\n",
       "      <td>0.447579</td>\n",
       "    </tr>\n",
       "    <tr>\n",
       "      <th>5</th>\n",
       "      <td>Manifesto che mostra una carta geografica dell...</td>\n",
       "      <td>Poster raffigurante una mappa dell'Italia e de...</td>\n",
       "      <td>0.416667</td>\n",
       "      <td>0.465922</td>\n",
       "    </tr>\n",
       "    <tr>\n",
       "      <th>6</th>\n",
       "      <td>Manifesto che mostra la carta geografica del m...</td>\n",
       "      <td>Il manifesto raffigurante la carta geografica ...</td>\n",
       "      <td>0.358974</td>\n",
       "      <td>0.526555</td>\n",
       "    </tr>\n",
       "    <tr>\n",
       "      <th>7</th>\n",
       "      <td>Manifesto che mostra una rappresentazione geog...</td>\n",
       "      <td>Poster raffigurante una rappresentazione geogr...</td>\n",
       "      <td>0.250000</td>\n",
       "      <td>0.742527</td>\n",
       "    </tr>\n",
       "    <tr>\n",
       "      <th>8</th>\n",
       "      <td>Manifesto che raffigura in azzurro la catena d...</td>\n",
       "      <td>Poster raffigurante in blu la catena montuosa ...</td>\n",
       "      <td>0.300000</td>\n",
       "      <td>0.602640</td>\n",
       "    </tr>\n",
       "    <tr>\n",
       "      <th>9</th>\n",
       "      <td>Manifesto che mostra la carta geograficha dell...</td>\n",
       "      <td>Poster raffigurante la carta geografica di Ven...</td>\n",
       "      <td>0.307692</td>\n",
       "      <td>0.515889</td>\n",
       "    </tr>\n",
       "  </tbody>\n",
       "</table>\n",
       "</div>"
      ],
      "text/plain": [
       "                                         description  \\\n",
       "0  Manifesto che riporta due carte geografiche de...   \n",
       "1  Manifesto che mostra al centro la carta geogra...   \n",
       "2  Manifesto che mostra una carta geografica dell...   \n",
       "3  Manifesto che mostra al centro una carta geogr...   \n",
       "4  Manifesto che mostra una carta geografica dell...   \n",
       "5  Manifesto che mostra una carta geografica dell...   \n",
       "6  Manifesto che mostra la carta geografica del m...   \n",
       "7  Manifesto che mostra una rappresentazione geog...   \n",
       "8  Manifesto che raffigura in azzurro la catena d...   \n",
       "9  Manifesto che mostra la carta geograficha dell...   \n",
       "\n",
       "                                   description_en_it  TER_score  BLEU_score  \n",
       "0  Manifesto raffigurante due carte geografiche d...   0.312500    0.435702  \n",
       "1  Manifesto che mostra al centro la carta geogra...   0.312500    0.512205  \n",
       "2  Poster raffigurante una mappa dell'Italia nord...   0.200000    0.774552  \n",
       "3  Manifesto che mostra al centro una mappa geogr...   0.357143    0.525368  \n",
       "4  Poster raffigurante una mappa dell'Italia nord...   0.347826    0.447579  \n",
       "5  Poster raffigurante una mappa dell'Italia e de...   0.416667    0.465922  \n",
       "6  Il manifesto raffigurante la carta geografica ...   0.358974    0.526555  \n",
       "7  Poster raffigurante una rappresentazione geogr...   0.250000    0.742527  \n",
       "8  Poster raffigurante in blu la catena montuosa ...   0.300000    0.602640  \n",
       "9  Poster raffigurante la carta geografica di Ven...   0.307692    0.515889  "
      ]
     },
     "execution_count": 47,
     "metadata": {},
     "output_type": "execute_result"
    }
   ],
   "source": [
    "df_translation_test['BLEU_score']=df_translation_test.apply(lambda x: sentence_bleu([x['description'].split( )], x['description_en_it'].split()), axis=1)\n",
    "df_translation_test"
   ]
  },
  {
   "cell_type": "markdown",
   "id": "0830ae5f-1a4a-4762-b05a-0f4534937ed4",
   "metadata": {
    "id": "0830ae5f-1a4a-4762-b05a-0f4534937ed4"
   },
   "source": [
    "The TER and BLEU scores are both useful in evaluating translation quality but they are based on different ideas.\n",
    "The TER metrics measures the amount of editing needed to bring the translation in line with the original reference, the **lower** the TER score the better the quality of the  translation. \n",
    "The BLEU score counts the number of overlapping n-grams between the reference and the candidate translation, the **higher** the BLEU score the better the quality of the translation. Given their different ways of measuring the quality of translations the two metrics could give in principle different results. In this case the two metrics are strongly correlated as it is shown below"
   ]
  },
  {
   "cell_type": "code",
   "execution_count": 48,
   "id": "RJVFiZQAOXrG",
   "metadata": {
    "colab": {
     "base_uri": "https://localhost:8080/",
     "height": 112
    },
    "id": "RJVFiZQAOXrG",
    "outputId": "6ce3b0df-6a8f-4be8-8d16-af087073dde8"
   },
   "outputs": [
    {
     "data": {
      "text/html": [
       "<div>\n",
       "<style scoped>\n",
       "    .dataframe tbody tr th:only-of-type {\n",
       "        vertical-align: middle;\n",
       "    }\n",
       "\n",
       "    .dataframe tbody tr th {\n",
       "        vertical-align: top;\n",
       "    }\n",
       "\n",
       "    .dataframe thead th {\n",
       "        text-align: right;\n",
       "    }\n",
       "</style>\n",
       "<table border=\"1\" class=\"dataframe\">\n",
       "  <thead>\n",
       "    <tr style=\"text-align: right;\">\n",
       "      <th></th>\n",
       "      <th>TER_score</th>\n",
       "      <th>BLEU_score</th>\n",
       "    </tr>\n",
       "  </thead>\n",
       "  <tbody>\n",
       "    <tr>\n",
       "      <th>TER_score</th>\n",
       "      <td>1.000000</td>\n",
       "      <td>-0.821982</td>\n",
       "    </tr>\n",
       "    <tr>\n",
       "      <th>BLEU_score</th>\n",
       "      <td>-0.821982</td>\n",
       "      <td>1.000000</td>\n",
       "    </tr>\n",
       "  </tbody>\n",
       "</table>\n",
       "</div>"
      ],
      "text/plain": [
       "            TER_score  BLEU_score\n",
       "TER_score    1.000000   -0.821982\n",
       "BLEU_score  -0.821982    1.000000"
      ]
     },
     "execution_count": 48,
     "metadata": {},
     "output_type": "execute_result"
    }
   ],
   "source": [
    "#correlation between Ter and Bleu scores\n",
    "df_translation_test[['TER_score','BLEU_score']].corr()"
   ]
  },
  {
   "cell_type": "markdown",
   "id": "oi4KRAonOe38",
   "metadata": {
    "id": "oi4KRAonOe38"
   },
   "source": [
    "As anticipated above, we could then use the values of the BLEU and TER scores as an estimate of the quality of the translations from Italian to English, taking into account the limitations of RTT."
   ]
  },
  {
   "cell_type": "markdown",
   "id": "70867018-3157-442a-8828-f0737913ddff",
   "metadata": {
    "id": "70867018-3157-442a-8828-f0737913ddff"
   },
   "source": [
    "# Conclusions"
   ]
  },
  {
   "cell_type": "markdown",
   "id": "7147e2a7-a1aa-494a-9b40-a1646b2cc188",
   "metadata": {
    "id": "7147e2a7-a1aa-494a-9b40-a1646b2cc188"
   },
   "source": [
    "In this tutorial we briefily covered the following topics\n",
    "- Introduction to metadata fields describing a CH object\n",
    "- Importance of having relevant metadata fields available in many languages\n",
    "- Use of the PyEuropeana module in combination with the Search API to retrieve CH objects with a description in Italian\n",
    "- Automatic translation from Italian to English of the retrieved metadata describing the CH object\n",
    "- Use of the RTT method in combination with the TER and BLEU score to estimate the quality of the obtained translations"
   ]
  }
 ],
 "metadata": {
  "colab": {
   "name": "Tutorial_Translation.ipynb",
   "provenance": []
  },
  "kernelspec": {
   "display_name": "Python 3 (ipykernel)",
   "language": "python",
   "name": "python3"
  },
  "language_info": {
   "codemirror_mode": {
    "name": "ipython",
    "version": 3
   },
   "file_extension": ".py",
   "mimetype": "text/x-python",
   "name": "python",
   "nbconvert_exporter": "python",
   "pygments_lexer": "ipython3",
   "version": "3.9.7"
  }
 },
 "nbformat": 4,
 "nbformat_minor": 5
}
